{
 "cells": [
  {
   "cell_type": "code",
   "execution_count": 6,
   "id": "37299d4f",
   "metadata": {},
   "outputs": [
    {
     "name": "stdout",
     "output_type": "stream",
     "text": [
      "tapez votre prenommyriam\n",
      "tapez votre nombenamara\n",
      "benamaramyriam\n"
     ]
    }
   ],
   "source": [
    "a=input (\"tapez votre prenom\")\n",
    "b=input (\"tapez votre nom\")\n",
    "print (b+\"\"+a)#question1"
   ]
  },
  {
   "cell_type": "code",
   "execution_count": 7,
   "id": "342287aa",
   "metadata": {},
   "outputs": [
    {
     "name": "stdout",
     "output_type": "stream",
     "text": [
      "input a number 5\n",
      "615\n"
     ]
    }
   ],
   "source": [
    "n= int(input(\"input a number \"))\n",
    "print(int(n+n*11+n*111)) #question2"
   ]
  },
  {
   "cell_type": "code",
   "execution_count": 8,
   "id": "7253efd4",
   "metadata": {},
   "outputs": [
    {
     "name": "stdout",
     "output_type": "stream",
     "text": [
      "entrer un nombre 3\n",
      "le nombre est impair \n"
     ]
    }
   ],
   "source": [
    "num=int(input(\"entrer un nombre \"))\n",
    "if num%2==0:\n",
    "    print(\"le nombre est pair \")\n",
    "else:\n",
    "    print (\"le nombre est impair \") #question3\n"
   ]
  },
  {
   "cell_type": "code",
   "execution_count": 2,
   "id": "75619f6b",
   "metadata": {},
   "outputs": [
    {
     "ename": "IndentationError",
     "evalue": "expected an indented block (<ipython-input-2-493719e840b0>, line 4)",
     "output_type": "error",
     "traceback": [
      "\u001b[1;36m  File \u001b[1;32m\"<ipython-input-2-493719e840b0>\"\u001b[1;36m, line \u001b[1;32m4\u001b[0m\n\u001b[1;33m    n.append(str(x))\u001b[0m\n\u001b[1;37m    ^\u001b[0m\n\u001b[1;31mIndentationError\u001b[0m\u001b[1;31m:\u001b[0m expected an indented block\n"
     ]
    }
   ],
   "source": [
    "n=[]\n",
    "for x in range (2000,3201):\n",
    "    if(x%7==0) and (x%5!=0):\n",
    "    n.append(str(x))\n",
    "print (\",\" join(n)) #question4"
   ]
  },
  {
   "cell_type": "code",
   "execution_count": 4,
   "id": "b5c9e5d7",
   "metadata": {},
   "outputs": [
    {
     "name": "stdout",
     "output_type": "stream",
     "text": [
      "entrer un nombre209\n",
      "le nombre est impair \n"
     ]
    }
   ],
   "source": [
    "num= int(input(\"entrer un nombre\"))\n",
    "if num%12==0:\n",
    "    print(\"le nombre est pair \")\n",
    "else:\n",
    "    print (\"le nombre est impair \") #question5"
   ]
  },
  {
   "cell_type": "code",
   "execution_count": 6,
   "id": "53d4b1f6",
   "metadata": {},
   "outputs": [
    {
     "name": "stdout",
     "output_type": "stream",
     "text": [
      "entrer un nombre 21\n",
      "le nombre est impair \n"
     ]
    }
   ],
   "source": [
    "num=int (input(\"entrer un nombre \"))\n",
    "if num%6==0:\n",
    "    print (\"le nombre est pair \")\n",
    "else:\n",
    "    print(\"le nombre est impair \") #question6\n",
    "    "
   ]
  },
  {
   "cell_type": "code",
   "execution_count": 1,
   "id": "7d9f8e16",
   "metadata": {},
   "outputs": [
    {
     "ename": "SyntaxError",
     "evalue": "invalid syntax (<ipython-input-1-68eab00395e4>, line 5)",
     "output_type": "error",
     "traceback": [
      "\u001b[1;36m  File \u001b[1;32m\"<ipython-input-1-68eab00395e4>\"\u001b[1;36m, line \u001b[1;32m5\u001b[0m\n\u001b[1;33m    elif atm <=15000:\u001b[0m\n\u001b[1;37m    ^\u001b[0m\n\u001b[1;31mSyntaxError\u001b[0m\u001b[1;31m:\u001b[0m invalid syntax\n"
     ]
    }
   ],
   "source": [
    "amt= int (input(\"enter sale amount :\"))\n",
    "if (atm>0):\n",
    "    if atm<=5000:\n",
    "        disc=atm*0.05\n",
    "        elif atm <=15000:\n",
    "        disc=atm*0.12\n",
    "        elif atm<=25000:\n",
    "        disc=atm*0.2\n",
    "        else:\n",
    "            disc=0.3*atm \n",
    "            \n",
    "            print(\"discount: \" , disc )\n",
    "            print (\"net pay : \" , atm-disc )\n",
    "else: \n",
    "    print (\"invalid amount\" ) #question7"
   ]
  },
  {
   "cell_type": "code",
   "execution_count": null,
   "id": "adf019ec",
   "metadata": {},
   "outputs": [],
   "source": []
  },
  {
   "cell_type": "code",
   "execution_count": null,
   "id": "fcce47de",
   "metadata": {},
   "outputs": [],
   "source": []
  }
 ],
 "metadata": {
  "kernelspec": {
   "display_name": "Python 3",
   "language": "python",
   "name": "python3"
  },
  "language_info": {
   "codemirror_mode": {
    "name": "ipython",
    "version": 3
   },
   "file_extension": ".py",
   "mimetype": "text/x-python",
   "name": "python",
   "nbconvert_exporter": "python",
   "pygments_lexer": "ipython3",
   "version": "3.8.8"
  }
 },
 "nbformat": 4,
 "nbformat_minor": 5
}
